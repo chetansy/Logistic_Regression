{
 "cells": [
  {
   "cell_type": "code",
   "execution_count": 1,
   "id": "bbc6ef3f",
   "metadata": {},
   "outputs": [],
   "source": [
    "import pandas as pd"
   ]
  },
  {
   "cell_type": "code",
   "execution_count": 2,
   "id": "2a13f208",
   "metadata": {},
   "outputs": [],
   "source": [
    "import numpy as np"
   ]
  },
  {
   "cell_type": "code",
   "execution_count": 3,
   "id": "3b27c4c7",
   "metadata": {},
   "outputs": [],
   "source": [
    "import matplotlib.pyplot as plt"
   ]
  },
  {
   "cell_type": "code",
   "execution_count": 15,
   "id": "5dbd4c70",
   "metadata": {},
   "outputs": [],
   "source": [
    "claimant = pd.read_csv(\"C:\\\\Users\\\\Chetan Yewale\\\\Downloads\\\\claimants.csv\")"
   ]
  },
  {
   "cell_type": "code",
   "execution_count": 16,
   "id": "037e2ccc",
   "metadata": {},
   "outputs": [
    {
     "data": {
      "text/plain": [
       "Index(['CASENUM', 'ATTORNEY', 'CLMSEX', 'CLMINSUR', 'SEATBELT', 'CLMAGE',\n",
       "       'LOSS'],\n",
       "      dtype='object')"
      ]
     },
     "execution_count": 16,
     "metadata": {},
     "output_type": "execute_result"
    }
   ],
   "source": [
    "claimant.columns"
   ]
  },
  {
   "cell_type": "code",
   "execution_count": 17,
   "id": "007ee230",
   "metadata": {},
   "outputs": [
    {
     "data": {
      "text/html": [
       "<div>\n",
       "<style scoped>\n",
       "    .dataframe tbody tr th:only-of-type {\n",
       "        vertical-align: middle;\n",
       "    }\n",
       "\n",
       "    .dataframe tbody tr th {\n",
       "        vertical-align: top;\n",
       "    }\n",
       "\n",
       "    .dataframe thead th {\n",
       "        text-align: right;\n",
       "    }\n",
       "</style>\n",
       "<table border=\"1\" class=\"dataframe\">\n",
       "  <thead>\n",
       "    <tr style=\"text-align: right;\">\n",
       "      <th></th>\n",
       "      <th>CASENUM</th>\n",
       "      <th>ATTORNEY</th>\n",
       "      <th>CLMSEX</th>\n",
       "      <th>CLMINSUR</th>\n",
       "      <th>SEATBELT</th>\n",
       "      <th>CLMAGE</th>\n",
       "      <th>LOSS</th>\n",
       "    </tr>\n",
       "  </thead>\n",
       "  <tbody>\n",
       "    <tr>\n",
       "      <th>0</th>\n",
       "      <td>5</td>\n",
       "      <td>0</td>\n",
       "      <td>0.0</td>\n",
       "      <td>1.0</td>\n",
       "      <td>0.0</td>\n",
       "      <td>50.0</td>\n",
       "      <td>34.940</td>\n",
       "    </tr>\n",
       "    <tr>\n",
       "      <th>1</th>\n",
       "      <td>3</td>\n",
       "      <td>1</td>\n",
       "      <td>1.0</td>\n",
       "      <td>0.0</td>\n",
       "      <td>0.0</td>\n",
       "      <td>18.0</td>\n",
       "      <td>0.891</td>\n",
       "    </tr>\n",
       "    <tr>\n",
       "      <th>2</th>\n",
       "      <td>66</td>\n",
       "      <td>1</td>\n",
       "      <td>0.0</td>\n",
       "      <td>1.0</td>\n",
       "      <td>0.0</td>\n",
       "      <td>5.0</td>\n",
       "      <td>0.330</td>\n",
       "    </tr>\n",
       "    <tr>\n",
       "      <th>3</th>\n",
       "      <td>70</td>\n",
       "      <td>0</td>\n",
       "      <td>0.0</td>\n",
       "      <td>1.0</td>\n",
       "      <td>1.0</td>\n",
       "      <td>31.0</td>\n",
       "      <td>0.037</td>\n",
       "    </tr>\n",
       "  </tbody>\n",
       "</table>\n",
       "</div>"
      ],
      "text/plain": [
       "   CASENUM  ATTORNEY  CLMSEX  CLMINSUR  SEATBELT  CLMAGE    LOSS\n",
       "0        5         0     0.0       1.0       0.0    50.0  34.940\n",
       "1        3         1     1.0       0.0       0.0    18.0   0.891\n",
       "2       66         1     0.0       1.0       0.0     5.0   0.330\n",
       "3       70         0     0.0       1.0       1.0    31.0   0.037"
      ]
     },
     "execution_count": 17,
     "metadata": {},
     "output_type": "execute_result"
    }
   ],
   "source": [
    "claimant.head(4)"
   ]
  },
  {
   "cell_type": "code",
   "execution_count": 18,
   "id": "6fa7154f",
   "metadata": {},
   "outputs": [],
   "source": [
    "### Removing casenum column"
   ]
  },
  {
   "cell_type": "code",
   "execution_count": 19,
   "id": "41ff930a",
   "metadata": {},
   "outputs": [],
   "source": [
    "claimant = claimant.drop([\"CASENUM\"],axis = 1)"
   ]
  },
  {
   "cell_type": "code",
   "execution_count": 20,
   "id": "7522d4c8",
   "metadata": {},
   "outputs": [
    {
     "data": {
      "text/plain": [
       "ATTORNEY      0\n",
       "CLMSEX       12\n",
       "CLMINSUR     41\n",
       "SEATBELT     48\n",
       "CLMAGE      189\n",
       "LOSS          0\n",
       "dtype: int64"
      ]
     },
     "execution_count": 20,
     "metadata": {},
     "output_type": "execute_result"
    }
   ],
   "source": [
    "claimant.isnull().sum()"
   ]
  },
  {
   "cell_type": "code",
   "execution_count": 21,
   "id": "e4aa0d02",
   "metadata": {},
   "outputs": [],
   "source": [
    "import seaborn as sns"
   ]
  },
  {
   "cell_type": "code",
   "execution_count": 22,
   "id": "0a520d0e",
   "metadata": {},
   "outputs": [
    {
     "data": {
      "text/plain": [
       "<AxesSubplot:xlabel='CLMSEX', ylabel='CLMAGE'>"
      ]
     },
     "execution_count": 22,
     "metadata": {},
     "output_type": "execute_result"
    },
    {
     "data": {
      "image/png": "[encoded data removed]",
      "text/plain": [
       "<Figure size 432x288 with 1 Axes>"
      ]
     },
     "metadata": {
      "needs_background": "light"
     },
     "output_type": "display_data"
    }
   ],
   "source": [
    "sns.boxplot(x = \"CLMSEX\", y= \"CLMAGE\", data = claimant)"
   ]
  },
  {
   "cell_type": "code",
   "execution_count": 23,
   "id": "f5b27df9",
   "metadata": {},
   "outputs": [
    {
     "data": {
      "text/plain": [
       "{'whiskers': [<matplotlib.lines.Line2D at 0x218c991e408>,\n",
       "  <matplotlib.lines.Line2D at 0x218c991ec48>],\n",
       " 'caps': [<matplotlib.lines.Line2D at 0x218c991e348>,\n",
       "  <matplotlib.lines.Line2D at 0x218bf4a5cc8>],\n",
       " 'boxes': [<matplotlib.lines.Line2D at 0x218c9919a88>],\n",
       " 'medians': [<matplotlib.lines.Line2D at 0x218c98d5c48>],\n",
       " 'fliers': [<matplotlib.lines.Line2D at 0x218c991e548>],\n",
       " 'means': []}"
      ]
     },
     "execution_count": 23,
     "metadata": {},
     "output_type": "execute_result"
    },
    {
     "data": {
      "image/png": "[encoded data removed]",
      "text/plain": [
       "<Figure size 432x288 with 1 Axes>"
      ]
     },
     "metadata": {
      "needs_background": "light"
     },
     "output_type": "display_data"
    }
   ],
   "source": [
    "plt.boxplot(claimant.LOSS)"
   ]
  },
  {
   "cell_type": "code",
   "execution_count": 13,
   "id": "bcc385b6",
   "metadata": {},
   "outputs": [],
   "source": [
    "claimant = claimant.describe()"
   ]
  },
  {
   "cell_type": "code",
   "execution_count": 24,
   "id": "9e0b0f68",
   "metadata": {},
   "outputs": [
    {
     "data": {
      "text/plain": [
       "0    685\n",
       "1    655\n",
       "Name: ATTORNEY, dtype: int64"
      ]
     },
     "execution_count": 24,
     "metadata": {},
     "output_type": "execute_result"
    }
   ],
   "source": [
    "claimant.ATTORNEY.value_counts()"
   ]
  },
  {
   "cell_type": "code",
   "execution_count": 25,
   "id": "ba7bc4f5",
   "metadata": {},
   "outputs": [
    {
     "data": {
      "text/plain": [
       "0"
      ]
     },
     "execution_count": 25,
     "metadata": {},
     "output_type": "execute_result"
    }
   ],
   "source": [
    "claimant.ATTORNEY.value_counts().index[0]  ### giv u most ocuuring values"
   ]
  },
  {
   "cell_type": "code",
   "execution_count": 26,
   "id": "50b5afed",
   "metadata": {},
   "outputs": [
    {
     "data": {
      "text/plain": [
       "0    0\n",
       "dtype: int64"
      ]
     },
     "execution_count": 26,
     "metadata": {},
     "output_type": "execute_result"
    }
   ],
   "source": [
    "claimant.ATTORNEY.mode()"
   ]
  },
  {
   "cell_type": "code",
   "execution_count": 27,
   "id": "5345e2db",
   "metadata": {},
   "outputs": [
    {
     "data": {
      "text/plain": [
       "1.0    742\n",
       "0.0    586\n",
       "Name: CLMSEX, dtype: int64"
      ]
     },
     "execution_count": 27,
     "metadata": {},
     "output_type": "execute_result"
    }
   ],
   "source": [
    "claimant.CLMSEX.value_counts()"
   ]
  },
  {
   "cell_type": "code",
   "execution_count": 28,
   "id": "22e8c7a7",
   "metadata": {},
   "outputs": [
    {
     "data": {
      "text/plain": [
       "ATTORNEY      0\n",
       "CLMSEX       12\n",
       "CLMINSUR     41\n",
       "SEATBELT     48\n",
       "CLMAGE      189\n",
       "LOSS          0\n",
       "dtype: int64"
      ]
     },
     "execution_count": 28,
     "metadata": {},
     "output_type": "execute_result"
    }
   ],
   "source": [
    "claimant.isnull().sum()"
   ]
  },
  {
   "cell_type": "code",
   "execution_count": 70,
   "id": "5717d610",
   "metadata": {},
   "outputs": [],
   "source": [
    "#### filing the missing value with most ocurring no"
   ]
  },
  {
   "cell_type": "code",
   "execution_count": 29,
   "id": "594bd039",
   "metadata": {},
   "outputs": [
    {
     "data": {
      "text/plain": [
       "ATTORNEY      0\n",
       "CLMSEX       12\n",
       "CLMINSUR     41\n",
       "SEATBELT     48\n",
       "CLMAGE      189\n",
       "LOSS          0\n",
       "dtype: int64"
      ]
     },
     "execution_count": 29,
     "metadata": {},
     "output_type": "execute_result"
    }
   ],
   "source": [
    "claimant.isna().sum()"
   ]
  },
  {
   "cell_type": "code",
   "execution_count": 30,
   "id": "01a8a484",
   "metadata": {},
   "outputs": [],
   "source": [
    "claimant.iloc[:,0:4] = claimant.iloc[:,0:4].apply(lambda x:x.fillna(x.mode()[0]))"
   ]
  },
  {
   "cell_type": "code",
   "execution_count": 31,
   "id": "558a5a0b",
   "metadata": {},
   "outputs": [
    {
     "data": {
      "text/html": [
       "<div>\n",
       "<style scoped>\n",
       "    .dataframe tbody tr th:only-of-type {\n",
       "        vertical-align: middle;\n",
       "    }\n",
       "\n",
       "    .dataframe tbody tr th {\n",
       "        vertical-align: top;\n",
       "    }\n",
       "\n",
       "    .dataframe thead th {\n",
       "        text-align: right;\n",
       "    }\n",
       "</style>\n",
       "<table border=\"1\" class=\"dataframe\">\n",
       "  <thead>\n",
       "    <tr style=\"text-align: right;\">\n",
       "      <th></th>\n",
       "      <th>ATTORNEY</th>\n",
       "      <th>CLMSEX</th>\n",
       "      <th>CLMINSUR</th>\n",
       "      <th>SEATBELT</th>\n",
       "    </tr>\n",
       "  </thead>\n",
       "  <tbody>\n",
       "    <tr>\n",
       "      <th>0</th>\n",
       "      <td>0</td>\n",
       "      <td>0.0</td>\n",
       "      <td>1.0</td>\n",
       "      <td>0.0</td>\n",
       "    </tr>\n",
       "    <tr>\n",
       "      <th>1</th>\n",
       "      <td>1</td>\n",
       "      <td>1.0</td>\n",
       "      <td>0.0</td>\n",
       "      <td>0.0</td>\n",
       "    </tr>\n",
       "    <tr>\n",
       "      <th>2</th>\n",
       "      <td>1</td>\n",
       "      <td>0.0</td>\n",
       "      <td>1.0</td>\n",
       "      <td>0.0</td>\n",
       "    </tr>\n",
       "    <tr>\n",
       "      <th>3</th>\n",
       "      <td>0</td>\n",
       "      <td>0.0</td>\n",
       "      <td>1.0</td>\n",
       "      <td>1.0</td>\n",
       "    </tr>\n",
       "    <tr>\n",
       "      <th>4</th>\n",
       "      <td>1</td>\n",
       "      <td>0.0</td>\n",
       "      <td>1.0</td>\n",
       "      <td>0.0</td>\n",
       "    </tr>\n",
       "    <tr>\n",
       "      <th>...</th>\n",
       "      <td>...</td>\n",
       "      <td>...</td>\n",
       "      <td>...</td>\n",
       "      <td>...</td>\n",
       "    </tr>\n",
       "    <tr>\n",
       "      <th>1335</th>\n",
       "      <td>1</td>\n",
       "      <td>0.0</td>\n",
       "      <td>1.0</td>\n",
       "      <td>0.0</td>\n",
       "    </tr>\n",
       "    <tr>\n",
       "      <th>1336</th>\n",
       "      <td>0</td>\n",
       "      <td>1.0</td>\n",
       "      <td>1.0</td>\n",
       "      <td>0.0</td>\n",
       "    </tr>\n",
       "    <tr>\n",
       "      <th>1337</th>\n",
       "      <td>1</td>\n",
       "      <td>1.0</td>\n",
       "      <td>1.0</td>\n",
       "      <td>0.0</td>\n",
       "    </tr>\n",
       "    <tr>\n",
       "      <th>1338</th>\n",
       "      <td>0</td>\n",
       "      <td>1.0</td>\n",
       "      <td>0.0</td>\n",
       "      <td>0.0</td>\n",
       "    </tr>\n",
       "    <tr>\n",
       "      <th>1339</th>\n",
       "      <td>1</td>\n",
       "      <td>1.0</td>\n",
       "      <td>1.0</td>\n",
       "      <td>0.0</td>\n",
       "    </tr>\n",
       "  </tbody>\n",
       "</table>\n",
       "<p>1340 rows × 4 columns</p>\n",
       "</div>"
      ],
      "text/plain": [
       "      ATTORNEY  CLMSEX  CLMINSUR  SEATBELT\n",
       "0            0     0.0       1.0       0.0\n",
       "1            1     1.0       0.0       0.0\n",
       "2            1     0.0       1.0       0.0\n",
       "3            0     0.0       1.0       1.0\n",
       "4            1     0.0       1.0       0.0\n",
       "...        ...     ...       ...       ...\n",
       "1335         1     0.0       1.0       0.0\n",
       "1336         0     1.0       1.0       0.0\n",
       "1337         1     1.0       1.0       0.0\n",
       "1338         0     1.0       0.0       0.0\n",
       "1339         1     1.0       1.0       0.0\n",
       "\n",
       "[1340 rows x 4 columns]"
      ]
     },
     "execution_count": 31,
     "metadata": {},
     "output_type": "execute_result"
    }
   ],
   "source": [
    "claimant.iloc[:,0:4]"
   ]
  },
  {
   "cell_type": "code",
   "execution_count": 32,
   "id": "9254bade",
   "metadata": {},
   "outputs": [
    {
     "data": {
      "text/plain": [
       "ATTORNEY      0\n",
       "CLMSEX        0\n",
       "CLMINSUR      0\n",
       "SEATBELT      0\n",
       "CLMAGE      189\n",
       "LOSS          0\n",
       "dtype: int64"
      ]
     },
     "execution_count": 32,
     "metadata": {},
     "output_type": "execute_result"
    }
   ],
   "source": [
    "claimant.isna().sum()"
   ]
  },
  {
   "cell_type": "code",
   "execution_count": 75,
   "id": "4ae75923",
   "metadata": {},
   "outputs": [
    {
     "data": {
      "text/plain": [
       "Index(['ATTORNEY', 'CLMSEX', 'CLMINSUR', 'SEATBELT'], dtype='object')"
      ]
     },
     "execution_count": 75,
     "metadata": {},
     "output_type": "execute_result"
    }
   ],
   "source": [
    "claimant.iloc[:,0:4].columns"
   ]
  },
  {
   "cell_type": "code",
   "execution_count": 33,
   "id": "09e91828",
   "metadata": {},
   "outputs": [],
   "source": [
    "claimant.CLMAGE = claimant.CLMAGE.fillna(claimant.CLMAGE.mean())"
   ]
  },
  {
   "cell_type": "code",
   "execution_count": 34,
   "id": "0c235d5b",
   "metadata": {},
   "outputs": [
    {
     "data": {
      "text/plain": [
       "ATTORNEY    0\n",
       "CLMSEX      0\n",
       "CLMINSUR    0\n",
       "SEATBELT    0\n",
       "CLMAGE      0\n",
       "LOSS        0\n",
       "dtype: int64"
      ]
     },
     "execution_count": 34,
     "metadata": {},
     "output_type": "execute_result"
    }
   ],
   "source": [
    "claimant.isna().sum()"
   ]
  },
  {
   "cell_type": "code",
   "execution_count": 35,
   "id": "dd356a8f",
   "metadata": {},
   "outputs": [],
   "source": [
    "from scipy import stats"
   ]
  },
  {
   "cell_type": "code",
   "execution_count": 36,
   "id": "b760cc2d",
   "metadata": {},
   "outputs": [],
   "source": [
    "import scipy.stats as st"
   ]
  },
  {
   "cell_type": "code",
   "execution_count": 51,
   "id": "b86c531b",
   "metadata": {},
   "outputs": [],
   "source": [
    "### Model building"
   ]
  },
  {
   "cell_type": "code",
   "execution_count": 37,
   "id": "ecddd734",
   "metadata": {},
   "outputs": [],
   "source": [
    "st.chisqprob = lambda chisq, df: stats.chi2.sf(chisq.df)"
   ]
  },
  {
   "cell_type": "code",
   "execution_count": 38,
   "id": "63781f4e",
   "metadata": {},
   "outputs": [
    {
     "data": {
      "text/plain": [
       "<function __main__.<lambda>(chisq, df)>"
      ]
     },
     "execution_count": 38,
     "metadata": {},
     "output_type": "execute_result"
    }
   ],
   "source": [
    "st.chisqprob"
   ]
  },
  {
   "cell_type": "code",
   "execution_count": 39,
   "id": "0f88b82e",
   "metadata": {},
   "outputs": [
    {
     "data": {
      "text/html": [
       "<div>\n",
       "<style scoped>\n",
       "    .dataframe tbody tr th:only-of-type {\n",
       "        vertical-align: middle;\n",
       "    }\n",
       "\n",
       "    .dataframe tbody tr th {\n",
       "        vertical-align: top;\n",
       "    }\n",
       "\n",
       "    .dataframe thead th {\n",
       "        text-align: right;\n",
       "    }\n",
       "</style>\n",
       "<table border=\"1\" class=\"dataframe\">\n",
       "  <thead>\n",
       "    <tr style=\"text-align: right;\">\n",
       "      <th></th>\n",
       "      <th>ATTORNEY</th>\n",
       "      <th>CLMSEX</th>\n",
       "      <th>CLMINSUR</th>\n",
       "      <th>SEATBELT</th>\n",
       "      <th>CLMAGE</th>\n",
       "      <th>LOSS</th>\n",
       "    </tr>\n",
       "  </thead>\n",
       "  <tbody>\n",
       "    <tr>\n",
       "      <th>0</th>\n",
       "      <td>0</td>\n",
       "      <td>0.0</td>\n",
       "      <td>1.0</td>\n",
       "      <td>0.0</td>\n",
       "      <td>50.0</td>\n",
       "      <td>34.940</td>\n",
       "    </tr>\n",
       "    <tr>\n",
       "      <th>1</th>\n",
       "      <td>1</td>\n",
       "      <td>1.0</td>\n",
       "      <td>0.0</td>\n",
       "      <td>0.0</td>\n",
       "      <td>18.0</td>\n",
       "      <td>0.891</td>\n",
       "    </tr>\n",
       "    <tr>\n",
       "      <th>2</th>\n",
       "      <td>1</td>\n",
       "      <td>0.0</td>\n",
       "      <td>1.0</td>\n",
       "      <td>0.0</td>\n",
       "      <td>5.0</td>\n",
       "      <td>0.330</td>\n",
       "    </tr>\n",
       "    <tr>\n",
       "      <th>3</th>\n",
       "      <td>0</td>\n",
       "      <td>0.0</td>\n",
       "      <td>1.0</td>\n",
       "      <td>1.0</td>\n",
       "      <td>31.0</td>\n",
       "      <td>0.037</td>\n",
       "    </tr>\n",
       "  </tbody>\n",
       "</table>\n",
       "</div>"
      ],
      "text/plain": [
       "   ATTORNEY  CLMSEX  CLMINSUR  SEATBELT  CLMAGE    LOSS\n",
       "0         0     0.0       1.0       0.0    50.0  34.940\n",
       "1         1     1.0       0.0       0.0    18.0   0.891\n",
       "2         1     0.0       1.0       0.0     5.0   0.330\n",
       "3         0     0.0       1.0       1.0    31.0   0.037"
      ]
     },
     "execution_count": 39,
     "metadata": {},
     "output_type": "execute_result"
    }
   ],
   "source": [
    " claimant.head(4)"
   ]
  },
  {
   "cell_type": "code",
   "execution_count": 41,
   "id": "528af3ac",
   "metadata": {},
   "outputs": [],
   "source": [
    "import statsmodels.formula.api as sm"
   ]
  },
  {
   "cell_type": "code",
   "execution_count": 56,
   "id": "00de798c",
   "metadata": {},
   "outputs": [
    {
     "name": "stdout",
     "output_type": "stream",
     "text": [
      "Optimization terminated successfully.\n",
      "         Current function value: 0.609131\n",
      "         Iterations 7\n"
     ]
    }
   ],
   "source": [
    "model_1 = sm.logit(\"ATTORNEY~CLMSEX+CLMAGE+CLMINSUR+SEATBELT+LOSS\", data = claimant).fit()"
   ]
  },
  {
   "cell_type": "code",
   "execution_count": 57,
   "id": "a28e7a9b",
   "metadata": {},
   "outputs": [
    {
     "data": {
      "text/html": [
       "<table class=\"simpletable\">\n",
       "<caption>Logit Regression Results</caption>\n",
       "<tr>\n",
       "  <th>Dep. Variable:</th>       <td>ATTORNEY</td>     <th>  No. Observations:  </th>  <td>  1340</td>  \n",
       "</tr>\n",
       "<tr>\n",
       "  <th>Model:</th>                 <td>Logit</td>      <th>  Df Residuals:      </th>  <td>  1334</td>  \n",
       "</tr>\n",
       "<tr>\n",
       "  <th>Method:</th>                 <td>MLE</td>       <th>  Df Model:          </th>  <td>     5</td>  \n",
       "</tr>\n",
       "<tr>\n",
       "  <th>Date:</th>            <td>Sun, 10 Oct 2021</td> <th>  Pseudo R-squ.:     </th>  <td>0.1209</td>  \n",
       "</tr>\n",
       "<tr>\n",
       "  <th>Time:</th>                <td>09:18:28</td>     <th>  Log-Likelihood:    </th> <td> -816.24</td> \n",
       "</tr>\n",
       "<tr>\n",
       "  <th>converged:</th>             <td>True</td>       <th>  LL-Null:           </th> <td> -928.48</td> \n",
       "</tr>\n",
       "<tr>\n",
       "  <th>Covariance Type:</th>     <td>nonrobust</td>    <th>  LLR p-value:       </th> <td>1.620e-46</td>\n",
       "</tr>\n",
       "</table>\n",
       "<table class=\"simpletable\">\n",
       "<tr>\n",
       "      <td></td>         <th>coef</th>     <th>std err</th>      <th>z</th>      <th>P>|z|</th>  <th>[0.025</th>    <th>0.975]</th>  \n",
       "</tr>\n",
       "<tr>\n",
       "  <th>Intercept</th> <td>   -0.1493</td> <td>    0.226</td> <td>   -0.660</td> <td> 0.509</td> <td>   -0.592</td> <td>    0.294</td>\n",
       "</tr>\n",
       "<tr>\n",
       "  <th>CLMSEX</th>    <td>    0.3204</td> <td>    0.120</td> <td>    2.674</td> <td> 0.008</td> <td>    0.086</td> <td>    0.555</td>\n",
       "</tr>\n",
       "<tr>\n",
       "  <th>CLMAGE</th>    <td>    0.0066</td> <td>    0.003</td> <td>    2.058</td> <td> 0.040</td> <td>    0.000</td> <td>    0.013</td>\n",
       "</tr>\n",
       "<tr>\n",
       "  <th>CLMINSUR</th>  <td>    0.5284</td> <td>    0.210</td> <td>    2.516</td> <td> 0.012</td> <td>    0.117</td> <td>    0.940</td>\n",
       "</tr>\n",
       "<tr>\n",
       "  <th>SEATBELT</th>  <td>   -0.6718</td> <td>    0.522</td> <td>   -1.286</td> <td> 0.198</td> <td>   -1.696</td> <td>    0.352</td>\n",
       "</tr>\n",
       "<tr>\n",
       "  <th>LOSS</th>      <td>   -0.3228</td> <td>    0.029</td> <td>  -10.962</td> <td> 0.000</td> <td>   -0.381</td> <td>   -0.265</td>\n",
       "</tr>\n",
       "</table>"
      ],
      "text/plain": [
       "<class 'statsmodels.iolib.summary.Summary'>\n",
       "\"\"\"\n",
       "                           Logit Regression Results                           \n",
       "==============================================================================\n",
       "Dep. Variable:               ATTORNEY   No. Observations:                 1340\n",
       "Model:                          Logit   Df Residuals:                     1334\n",
       "Method:                           MLE   Df Model:                            5\n",
       "Date:                Sun, 10 Oct 2021   Pseudo R-squ.:                  0.1209\n",
       "Time:                        09:18:28   Log-Likelihood:                -816.24\n",
       "converged:                       True   LL-Null:                       -928.48\n",
       "Covariance Type:            nonrobust   LLR p-value:                 1.620e-46\n",
       "==============================================================================\n",
       "                 coef    std err          z      P>|z|      [0.025      0.975]\n",
       "------------------------------------------------------------------------------\n",
       "Intercept     -0.1493      0.226     -0.660      0.509      -0.592       0.294\n",
       "CLMSEX         0.3204      0.120      2.674      0.008       0.086       0.555\n",
       "CLMAGE         0.0066      0.003      2.058      0.040       0.000       0.013\n",
       "CLMINSUR       0.5284      0.210      2.516      0.012       0.117       0.940\n",
       "SEATBELT      -0.6718      0.522     -1.286      0.198      -1.696       0.352\n",
       "LOSS          -0.3228      0.029    -10.962      0.000      -0.381      -0.265\n",
       "==============================================================================\n",
       "\"\"\""
      ]
     },
     "execution_count": 57,
     "metadata": {},
     "output_type": "execute_result"
    }
   ],
   "source": [
    "model_1.summary()"
   ]
  },
  {
   "cell_type": "code",
   "execution_count": 58,
   "id": "8579d677",
   "metadata": {},
   "outputs": [],
   "source": [
    "pred_1 = model_1.predict(claimant)"
   ]
  },
  {
   "cell_type": "code",
   "execution_count": 59,
   "id": "7b9c938e",
   "metadata": {},
   "outputs": [],
   "source": [
    "claimant[\"pred_1\"] = pred_1   ### creating column in claimant"
   ]
  },
  {
   "cell_type": "code",
   "execution_count": 60,
   "id": "4ca74d84",
   "metadata": {},
   "outputs": [
    {
     "data": {
      "text/plain": [
       "Index(['ATTORNEY', 'CLMSEX', 'CLMINSUR', 'SEATBELT', 'CLMAGE', 'LOSS',\n",
       "       'pred_1', 'att_value', 'att_val'],\n",
       "      dtype='object')"
      ]
     },
     "execution_count": 60,
     "metadata": {},
     "output_type": "execute_result"
    }
   ],
   "source": [
    "claimant.columns"
   ]
  },
  {
   "cell_type": "code",
   "execution_count": 61,
   "id": "cb1862ba",
   "metadata": {},
   "outputs": [],
   "source": [
    "### filinng all the values in cell is zero"
   ]
  },
  {
   "cell_type": "code",
   "execution_count": 62,
   "id": "5b754759",
   "metadata": {},
   "outputs": [],
   "source": [
    "claimant[\"att_value\"] = 0"
   ]
  },
  {
   "cell_type": "code",
   "execution_count": 63,
   "id": "7e9dde22",
   "metadata": {},
   "outputs": [],
   "source": [
    "claimant.loc[pred_1>0.5, \"att_value\"] = 1"
   ]
  },
  {
   "cell_type": "code",
   "execution_count": 65,
   "id": "110a0d88",
   "metadata": {},
   "outputs": [
    {
     "data": {
      "text/plain": [
       "0       0\n",
       "1       1\n",
       "2       1\n",
       "3       0\n",
       "4       1\n",
       "       ..\n",
       "1335    1\n",
       "1336    0\n",
       "1337    1\n",
       "1338    0\n",
       "1339    1\n",
       "Name: att_value, Length: 1340, dtype: int64"
      ]
     },
     "execution_count": 65,
     "metadata": {},
     "output_type": "execute_result"
    }
   ],
   "source": [
    "claimant.att_value"
   ]
  },
  {
   "cell_type": "code",
   "execution_count": 66,
   "id": "fba7e514",
   "metadata": {},
   "outputs": [],
   "source": [
    "from sklearn.metrics import classification_report"
   ]
  },
  {
   "cell_type": "code",
   "execution_count": 67,
   "id": "02f55270",
   "metadata": {},
   "outputs": [
    {
     "data": {
      "text/plain": [
       "'              precision    recall  f1-score   support\\n\\n           0       0.64      0.74      0.69       587\\n           1       0.77      0.67      0.72       753\\n\\n    accuracy                           0.70      1340\\n   macro avg       0.70      0.71      0.70      1340\\nweighted avg       0.71      0.70      0.70      1340\\n'"
      ]
     },
     "execution_count": 67,
     "metadata": {},
     "output_type": "execute_result"
    }
   ],
   "source": [
    "classification_report(claimant.att_value,claimant.ATTORNEY)"
   ]
  },
  {
   "cell_type": "code",
   "execution_count": 68,
   "id": "0fe966d2",
   "metadata": {},
   "outputs": [],
   "source": [
    "### confusion matrics"
   ]
  },
  {
   "cell_type": "code",
   "execution_count": 69,
   "id": "5ddd2d17",
   "metadata": {},
   "outputs": [
    {
     "data": {
      "text/html": [
       "<div>\n",
       "<style scoped>\n",
       "    .dataframe tbody tr th:only-of-type {\n",
       "        vertical-align: middle;\n",
       "    }\n",
       "\n",
       "    .dataframe tbody tr th {\n",
       "        vertical-align: top;\n",
       "    }\n",
       "\n",
       "    .dataframe thead th {\n",
       "        text-align: right;\n",
       "    }\n",
       "</style>\n",
       "<table border=\"1\" class=\"dataframe\">\n",
       "  <thead>\n",
       "    <tr style=\"text-align: right;\">\n",
       "      <th>att_value</th>\n",
       "      <th>0</th>\n",
       "      <th>1</th>\n",
       "    </tr>\n",
       "    <tr>\n",
       "      <th>ATTORNEY</th>\n",
       "      <th></th>\n",
       "      <th></th>\n",
       "    </tr>\n",
       "  </thead>\n",
       "  <tbody>\n",
       "    <tr>\n",
       "      <th>0</th>\n",
       "      <td>436</td>\n",
       "      <td>249</td>\n",
       "    </tr>\n",
       "    <tr>\n",
       "      <th>1</th>\n",
       "      <td>151</td>\n",
       "      <td>504</td>\n",
       "    </tr>\n",
       "  </tbody>\n",
       "</table>\n",
       "</div>"
      ],
      "text/plain": [
       "att_value    0    1\n",
       "ATTORNEY           \n",
       "0          436  249\n",
       "1          151  504"
      ]
     },
     "execution_count": 69,
     "metadata": {},
     "output_type": "execute_result"
    }
   ],
   "source": [
    "pd.crosstab(claimant.ATTORNEY,claimant.att_value)"
   ]
  },
  {
   "cell_type": "code",
   "execution_count": 70,
   "id": "48618d29",
   "metadata": {},
   "outputs": [],
   "source": [
    "accuracy = (436 + 504)/(436+249+151+504) ### 70.14%"
   ]
  },
  {
   "cell_type": "code",
   "execution_count": 71,
   "id": "bb6e0d04",
   "metadata": {},
   "outputs": [
    {
     "data": {
      "text/plain": [
       "0.7014925373134329"
      ]
     },
     "execution_count": 71,
     "metadata": {},
     "output_type": "execute_result"
    }
   ],
   "source": [
    "accuracy"
   ]
  },
  {
   "cell_type": "code",
   "execution_count": 72,
   "id": "b2bdda44",
   "metadata": {},
   "outputs": [],
   "source": [
    "### ROC curve"
   ]
  },
  {
   "cell_type": "code",
   "execution_count": 73,
   "id": "f8754c44",
   "metadata": {},
   "outputs": [],
   "source": [
    "from sklearn import metrics"
   ]
  },
  {
   "cell_type": "code",
   "execution_count": 74,
   "id": "f583f020",
   "metadata": {},
   "outputs": [],
   "source": [
    "##fpr = false positive rate  1-0 =151  false positive , 0-1 = 249 false negative     "
   ]
  },
  {
   "cell_type": "code",
   "execution_count": 78,
   "id": "fd861a85",
   "metadata": {},
   "outputs": [],
   "source": [
    "## tpr = true positive rate  0-0 = 436 true negative , 1-1 = 504 true positive"
   ]
  },
  {
   "cell_type": "code",
   "execution_count": 81,
   "id": "ac88abc9",
   "metadata": {},
   "outputs": [],
   "source": [
    "fpr,tpr,threshold = metrics.roc_curve(claimant.ATTORNEY,pred_1)"
   ]
  },
  {
   "cell_type": "code",
   "execution_count": 82,
   "id": "3a75fd18",
   "metadata": {},
   "outputs": [],
   "source": [
    "### above function is used for binary classification only"
   ]
  },
  {
   "cell_type": "code",
   "execution_count": 86,
   "id": "8d35c38b",
   "metadata": {},
   "outputs": [
    {
     "ename": "TypeError",
     "evalue": "'str' object is not callable",
     "output_type": "error",
     "traceback": [
      "\u001b[1;31m---------------------------------------------------------------------------\u001b[0m",
      "\u001b[1;31mTypeError\u001b[0m                                 Traceback (most recent call last)",
      "\u001b[1;32mC:\\Users\\CHETAN~1\\AppData\\Local\\Temp/ipykernel_8304/2439402077.py\u001b[0m in \u001b[0;36m<module>\u001b[1;34m\u001b[0m\n\u001b[1;32m----> 1\u001b[1;33m \u001b[0mplt\u001b[0m\u001b[1;33m.\u001b[0m\u001b[0mplot\u001b[0m\u001b[1;33m(\u001b[0m\u001b[0mfpr\u001b[0m\u001b[1;33m,\u001b[0m\u001b[0mtpr\u001b[0m\u001b[1;33m)\u001b[0m\u001b[1;33m;\u001b[0m\u001b[0mplt\u001b[0m\u001b[1;33m.\u001b[0m\u001b[0mxlabel\u001b[0m\u001b[1;33m(\u001b[0m\u001b[1;34m\"False Positive\"\u001b[0m\u001b[1;33m)\u001b[0m\u001b[1;33m;\u001b[0m\u001b[0mplt\u001b[0m\u001b[1;33m.\u001b[0m\u001b[0mylabel\u001b[0m\u001b[1;33m(\u001b[0m\u001b[1;34m\"True Postive\"\u001b[0m\u001b[1;33m)\u001b[0m\u001b[1;33m\u001b[0m\u001b[1;33m\u001b[0m\u001b[0m\n\u001b[0m",
      "\u001b[1;31mTypeError\u001b[0m: 'str' object is not callable"
     ]
    },
    {
     "data": {
      "image/png": "[encoded data removed]",
      "text/plain": [
       "<Figure size 432x288 with 1 Axes>"
      ]
     },
     "metadata": {
      "needs_background": "light"
     },
     "output_type": "display_data"
    }
   ],
   "source": [
    "plt.plot(fpr,tpr);plt.xlabel(\"False Positive\");plt.ylabel(\"True Postive\")"
   ]
  },
  {
   "cell_type": "markdown",
   "id": "e605fb07",
   "metadata": {},
   "source": [
    "roc_auc = metrics.auc(fpr,tpr"
   ]
  },
  {
   "cell_type": "code",
   "execution_count": 87,
   "id": "042413f5",
   "metadata": {},
   "outputs": [],
   "source": [
    "roc_auc = metrics.auc(fpr,tpr) ## 76.01 ## area under ROC = auc"
   ]
  },
  {
   "cell_type": "code",
   "execution_count": 88,
   "id": "eba706e1",
   "metadata": {},
   "outputs": [
    {
     "data": {
      "text/plain": [
       "0.7601014097063576"
      ]
     },
     "execution_count": 88,
     "metadata": {},
     "output_type": "execute_result"
    }
   ],
   "source": [
    "roc_auc"
   ]
  },
  {
   "cell_type": "code",
   "execution_count": null,
   "id": "8128e6c1",
   "metadata": {},
   "outputs": [],
   "source": []
  },
  {
   "cell_type": "code",
   "execution_count": 89,
   "id": "77a356ba",
   "metadata": {},
   "outputs": [],
   "source": [
    "#### dividing the data into train and test"
   ]
  },
  {
   "cell_type": "code",
   "execution_count": 90,
   "id": "687827a1",
   "metadata": {},
   "outputs": [],
   "source": [
    "claimant.drop(\"att_value\",axis = 1,inplace =True) "
   ]
  },
  {
   "cell_type": "code",
   "execution_count": 97,
   "id": "a134f9a1",
   "metadata": {},
   "outputs": [],
   "source": [
    "from sklearn.model_selection import train_test_split\n"
   ]
  },
  {
   "cell_type": "code",
   "execution_count": 99,
   "id": "5a19f818",
   "metadata": {},
   "outputs": [],
   "source": [
    "train,test = train_test_split(claimant,test_size=0.3)"
   ]
  },
  {
   "cell_type": "code",
   "execution_count": 108,
   "id": "e5d76208",
   "metadata": {},
   "outputs": [
    {
     "ename": "KeyError",
     "evalue": "\"['att_val'] not found in axis\"",
     "output_type": "error",
     "traceback": [
      "\u001b[1;31m---------------------------------------------------------------------------\u001b[0m",
      "\u001b[1;31mKeyError\u001b[0m                                  Traceback (most recent call last)",
      "\u001b[1;32mC:\\Users\\CHETAN~1\\AppData\\Local\\Temp/ipykernel_8304/1988344913.py\u001b[0m in \u001b[0;36m<module>\u001b[1;34m\u001b[0m\n\u001b[1;32m----> 1\u001b[1;33m \u001b[0mtrain\u001b[0m\u001b[1;33m.\u001b[0m\u001b[0mdrop\u001b[0m\u001b[1;33m(\u001b[0m\u001b[1;34m\"att_val\"\u001b[0m\u001b[1;33m,\u001b[0m\u001b[0maxis\u001b[0m \u001b[1;33m=\u001b[0m\u001b[1;36m1\u001b[0m\u001b[1;33m,\u001b[0m\u001b[0minplace\u001b[0m \u001b[1;33m=\u001b[0m \u001b[1;32mTrue\u001b[0m\u001b[1;33m)\u001b[0m\u001b[1;33m\u001b[0m\u001b[1;33m\u001b[0m\u001b[0m\n\u001b[0m",
      "\u001b[1;32m~\\Anaconda3\\envs\\CSY\\lib\\site-packages\\pandas\\util\\_decorators.py\u001b[0m in \u001b[0;36mwrapper\u001b[1;34m(*args, **kwargs)\u001b[0m\n\u001b[0;32m    309\u001b[0m                     \u001b[0mstacklevel\u001b[0m\u001b[1;33m=\u001b[0m\u001b[0mstacklevel\u001b[0m\u001b[1;33m,\u001b[0m\u001b[1;33m\u001b[0m\u001b[1;33m\u001b[0m\u001b[0m\n\u001b[0;32m    310\u001b[0m                 )\n\u001b[1;32m--> 311\u001b[1;33m             \u001b[1;32mreturn\u001b[0m \u001b[0mfunc\u001b[0m\u001b[1;33m(\u001b[0m\u001b[1;33m*\u001b[0m\u001b[0margs\u001b[0m\u001b[1;33m,\u001b[0m \u001b[1;33m**\u001b[0m\u001b[0mkwargs\u001b[0m\u001b[1;33m)\u001b[0m\u001b[1;33m\u001b[0m\u001b[1;33m\u001b[0m\u001b[0m\n\u001b[0m\u001b[0;32m    312\u001b[0m \u001b[1;33m\u001b[0m\u001b[0m\n\u001b[0;32m    313\u001b[0m         \u001b[1;32mreturn\u001b[0m \u001b[0mwrapper\u001b[0m\u001b[1;33m\u001b[0m\u001b[1;33m\u001b[0m\u001b[0m\n",
      "\u001b[1;32m~\\Anaconda3\\envs\\CSY\\lib\\site-packages\\pandas\\core\\frame.py\u001b[0m in \u001b[0;36mdrop\u001b[1;34m(self, labels, axis, index, columns, level, inplace, errors)\u001b[0m\n\u001b[0;32m   4911\u001b[0m             \u001b[0mlevel\u001b[0m\u001b[1;33m=\u001b[0m\u001b[0mlevel\u001b[0m\u001b[1;33m,\u001b[0m\u001b[1;33m\u001b[0m\u001b[1;33m\u001b[0m\u001b[0m\n\u001b[0;32m   4912\u001b[0m             \u001b[0minplace\u001b[0m\u001b[1;33m=\u001b[0m\u001b[0minplace\u001b[0m\u001b[1;33m,\u001b[0m\u001b[1;33m\u001b[0m\u001b[1;33m\u001b[0m\u001b[0m\n\u001b[1;32m-> 4913\u001b[1;33m             \u001b[0merrors\u001b[0m\u001b[1;33m=\u001b[0m\u001b[0merrors\u001b[0m\u001b[1;33m,\u001b[0m\u001b[1;33m\u001b[0m\u001b[1;33m\u001b[0m\u001b[0m\n\u001b[0m\u001b[0;32m   4914\u001b[0m         )\n\u001b[0;32m   4915\u001b[0m \u001b[1;33m\u001b[0m\u001b[0m\n",
      "\u001b[1;32m~\\Anaconda3\\envs\\CSY\\lib\\site-packages\\pandas\\core\\generic.py\u001b[0m in \u001b[0;36mdrop\u001b[1;34m(self, labels, axis, index, columns, level, inplace, errors)\u001b[0m\n\u001b[0;32m   4148\u001b[0m         \u001b[1;32mfor\u001b[0m \u001b[0maxis\u001b[0m\u001b[1;33m,\u001b[0m \u001b[0mlabels\u001b[0m \u001b[1;32min\u001b[0m \u001b[0maxes\u001b[0m\u001b[1;33m.\u001b[0m\u001b[0mitems\u001b[0m\u001b[1;33m(\u001b[0m\u001b[1;33m)\u001b[0m\u001b[1;33m:\u001b[0m\u001b[1;33m\u001b[0m\u001b[1;33m\u001b[0m\u001b[0m\n\u001b[0;32m   4149\u001b[0m             \u001b[1;32mif\u001b[0m \u001b[0mlabels\u001b[0m \u001b[1;32mis\u001b[0m \u001b[1;32mnot\u001b[0m \u001b[1;32mNone\u001b[0m\u001b[1;33m:\u001b[0m\u001b[1;33m\u001b[0m\u001b[1;33m\u001b[0m\u001b[0m\n\u001b[1;32m-> 4150\u001b[1;33m                 \u001b[0mobj\u001b[0m \u001b[1;33m=\u001b[0m \u001b[0mobj\u001b[0m\u001b[1;33m.\u001b[0m\u001b[0m_drop_axis\u001b[0m\u001b[1;33m(\u001b[0m\u001b[0mlabels\u001b[0m\u001b[1;33m,\u001b[0m \u001b[0maxis\u001b[0m\u001b[1;33m,\u001b[0m \u001b[0mlevel\u001b[0m\u001b[1;33m=\u001b[0m\u001b[0mlevel\u001b[0m\u001b[1;33m,\u001b[0m \u001b[0merrors\u001b[0m\u001b[1;33m=\u001b[0m\u001b[0merrors\u001b[0m\u001b[1;33m)\u001b[0m\u001b[1;33m\u001b[0m\u001b[1;33m\u001b[0m\u001b[0m\n\u001b[0m\u001b[0;32m   4151\u001b[0m \u001b[1;33m\u001b[0m\u001b[0m\n\u001b[0;32m   4152\u001b[0m         \u001b[1;32mif\u001b[0m \u001b[0minplace\u001b[0m\u001b[1;33m:\u001b[0m\u001b[1;33m\u001b[0m\u001b[1;33m\u001b[0m\u001b[0m\n",
      "\u001b[1;32m~\\Anaconda3\\envs\\CSY\\lib\\site-packages\\pandas\\core\\generic.py\u001b[0m in \u001b[0;36m_drop_axis\u001b[1;34m(self, labels, axis, level, errors)\u001b[0m\n\u001b[0;32m   4183\u001b[0m                 \u001b[0mnew_axis\u001b[0m \u001b[1;33m=\u001b[0m \u001b[0maxis\u001b[0m\u001b[1;33m.\u001b[0m\u001b[0mdrop\u001b[0m\u001b[1;33m(\u001b[0m\u001b[0mlabels\u001b[0m\u001b[1;33m,\u001b[0m \u001b[0mlevel\u001b[0m\u001b[1;33m=\u001b[0m\u001b[0mlevel\u001b[0m\u001b[1;33m,\u001b[0m \u001b[0merrors\u001b[0m\u001b[1;33m=\u001b[0m\u001b[0merrors\u001b[0m\u001b[1;33m)\u001b[0m\u001b[1;33m\u001b[0m\u001b[1;33m\u001b[0m\u001b[0m\n\u001b[0;32m   4184\u001b[0m             \u001b[1;32melse\u001b[0m\u001b[1;33m:\u001b[0m\u001b[1;33m\u001b[0m\u001b[1;33m\u001b[0m\u001b[0m\n\u001b[1;32m-> 4185\u001b[1;33m                 \u001b[0mnew_axis\u001b[0m \u001b[1;33m=\u001b[0m \u001b[0maxis\u001b[0m\u001b[1;33m.\u001b[0m\u001b[0mdrop\u001b[0m\u001b[1;33m(\u001b[0m\u001b[0mlabels\u001b[0m\u001b[1;33m,\u001b[0m \u001b[0merrors\u001b[0m\u001b[1;33m=\u001b[0m\u001b[0merrors\u001b[0m\u001b[1;33m)\u001b[0m\u001b[1;33m\u001b[0m\u001b[1;33m\u001b[0m\u001b[0m\n\u001b[0m\u001b[0;32m   4186\u001b[0m             \u001b[0mresult\u001b[0m \u001b[1;33m=\u001b[0m \u001b[0mself\u001b[0m\u001b[1;33m.\u001b[0m\u001b[0mreindex\u001b[0m\u001b[1;33m(\u001b[0m\u001b[1;33m**\u001b[0m\u001b[1;33m{\u001b[0m\u001b[0maxis_name\u001b[0m\u001b[1;33m:\u001b[0m \u001b[0mnew_axis\u001b[0m\u001b[1;33m}\u001b[0m\u001b[1;33m)\u001b[0m\u001b[1;33m\u001b[0m\u001b[1;33m\u001b[0m\u001b[0m\n\u001b[0;32m   4187\u001b[0m \u001b[1;33m\u001b[0m\u001b[0m\n",
      "\u001b[1;32m~\\Anaconda3\\envs\\CSY\\lib\\site-packages\\pandas\\core\\indexes\\base.py\u001b[0m in \u001b[0;36mdrop\u001b[1;34m(self, labels, errors)\u001b[0m\n\u001b[0;32m   6015\u001b[0m         \u001b[1;32mif\u001b[0m \u001b[0mmask\u001b[0m\u001b[1;33m.\u001b[0m\u001b[0many\u001b[0m\u001b[1;33m(\u001b[0m\u001b[1;33m)\u001b[0m\u001b[1;33m:\u001b[0m\u001b[1;33m\u001b[0m\u001b[1;33m\u001b[0m\u001b[0m\n\u001b[0;32m   6016\u001b[0m             \u001b[1;32mif\u001b[0m \u001b[0merrors\u001b[0m \u001b[1;33m!=\u001b[0m \u001b[1;34m\"ignore\"\u001b[0m\u001b[1;33m:\u001b[0m\u001b[1;33m\u001b[0m\u001b[1;33m\u001b[0m\u001b[0m\n\u001b[1;32m-> 6017\u001b[1;33m                 \u001b[1;32mraise\u001b[0m \u001b[0mKeyError\u001b[0m\u001b[1;33m(\u001b[0m\u001b[1;34mf\"{labels[mask]} not found in axis\"\u001b[0m\u001b[1;33m)\u001b[0m\u001b[1;33m\u001b[0m\u001b[1;33m\u001b[0m\u001b[0m\n\u001b[0m\u001b[0;32m   6018\u001b[0m             \u001b[0mindexer\u001b[0m \u001b[1;33m=\u001b[0m \u001b[0mindexer\u001b[0m\u001b[1;33m[\u001b[0m\u001b[1;33m~\u001b[0m\u001b[0mmask\u001b[0m\u001b[1;33m]\u001b[0m\u001b[1;33m\u001b[0m\u001b[1;33m\u001b[0m\u001b[0m\n\u001b[0;32m   6019\u001b[0m         \u001b[1;32mreturn\u001b[0m \u001b[0mself\u001b[0m\u001b[1;33m.\u001b[0m\u001b[0mdelete\u001b[0m\u001b[1;33m(\u001b[0m\u001b[0mindexer\u001b[0m\u001b[1;33m)\u001b[0m\u001b[1;33m\u001b[0m\u001b[1;33m\u001b[0m\u001b[0m\n",
      "\u001b[1;31mKeyError\u001b[0m: \"['att_val'] not found in axis\""
     ]
    }
   ],
   "source": [
    "train.drop(\"att_val\",axis =1,inplace = True)"
   ]
  },
  {
   "cell_type": "code",
   "execution_count": 100,
   "id": "cfc93ed0",
   "metadata": {},
   "outputs": [],
   "source": [
    "#### checking na values"
   ]
  },
  {
   "cell_type": "code",
   "execution_count": 110,
   "id": "d02c7507",
   "metadata": {},
   "outputs": [
    {
     "data": {
      "text/plain": [
       "(ATTORNEY    0\n",
       " CLMSEX      0\n",
       " CLMINSUR    0\n",
       " SEATBELT    0\n",
       " CLMAGE      0\n",
       " LOSS        0\n",
       " pred_1      0\n",
       " dtype: int64,\n",
       " ATTORNEY    0\n",
       " CLMSEX      0\n",
       " CLMINSUR    0\n",
       " SEATBELT    0\n",
       " CLMAGE      0\n",
       " LOSS        0\n",
       " pred_1      0\n",
       " dtype: int64)"
      ]
     },
     "execution_count": 110,
     "metadata": {},
     "output_type": "execute_result"
    }
   ],
   "source": [
    "train.isnull().sum(),test.isnull().sum()"
   ]
  },
  {
   "cell_type": "code",
   "execution_count": 103,
   "id": "7562a6b1",
   "metadata": {},
   "outputs": [
    {
     "ename": "KeyError",
     "evalue": "'[nan nan nan nan nan nan nan nan nan nan nan nan nan nan nan nan nan nan\\n nan nan nan nan nan nan nan nan nan nan nan nan nan nan nan nan nan nan\\n nan nan nan nan nan nan nan nan nan nan nan nan nan nan nan nan nan nan\\n nan nan nan nan nan nan nan nan nan nan nan nan nan nan nan nan nan nan\\n nan nan nan nan nan nan nan nan nan nan nan nan nan nan nan nan nan nan\\n nan nan nan nan nan nan nan nan nan nan nan nan nan nan nan nan nan nan\\n nan nan nan nan nan nan nan nan nan nan nan nan nan nan nan nan nan nan\\n nan nan nan nan nan nan nan nan nan nan nan nan nan nan nan nan nan nan\\n nan nan nan nan nan nan nan nan nan nan nan nan nan nan nan nan nan nan\\n nan nan nan nan nan nan nan nan nan nan nan nan nan nan nan nan nan nan\\n nan nan nan nan nan nan nan nan nan nan nan nan nan nan nan nan nan nan\\n nan nan nan nan nan nan nan nan nan nan nan nan nan nan nan nan nan nan\\n nan nan nan nan nan nan nan nan nan nan nan nan nan nan nan nan nan nan\\n nan nan nan nan nan nan nan nan nan nan nan nan nan nan nan nan nan nan\\n nan nan nan nan nan nan nan nan nan nan nan nan nan nan nan nan nan nan\\n nan nan nan nan nan nan nan nan nan nan nan nan nan nan nan nan nan nan\\n nan nan nan nan nan nan nan nan nan nan nan nan nan nan nan nan nan nan\\n nan nan nan nan nan nan nan nan nan nan nan nan nan nan nan nan nan nan\\n nan nan nan nan nan nan nan nan nan nan nan nan nan nan nan nan nan nan\\n nan nan nan nan nan nan nan nan nan nan nan nan nan nan nan nan nan nan\\n nan nan nan nan nan nan nan nan nan nan nan nan nan nan nan nan nan nan\\n nan nan nan nan nan nan nan nan nan nan nan nan nan nan nan nan nan nan\\n nan nan nan nan nan nan nan nan nan nan nan nan nan nan nan nan nan nan\\n nan nan nan nan nan nan nan nan nan nan nan nan nan nan nan nan nan nan\\n nan nan nan nan nan nan nan nan nan nan nan nan nan nan nan nan nan nan\\n nan nan nan nan nan nan nan nan nan nan nan nan nan nan nan nan nan nan\\n nan nan nan nan nan nan nan nan nan nan nan nan nan nan nan nan nan nan\\n nan nan nan nan nan nan nan nan nan nan nan nan nan nan nan nan nan nan\\n nan nan nan nan nan nan nan nan nan nan nan nan nan nan nan nan nan nan\\n nan nan nan nan nan nan nan nan nan nan nan nan nan nan nan nan nan nan\\n nan nan nan nan nan nan nan nan nan nan nan nan nan nan nan nan nan nan\\n nan nan nan nan nan nan nan nan nan nan nan nan nan nan nan nan nan nan\\n nan nan nan nan nan nan nan nan nan nan nan] not found in axis'",
     "output_type": "error",
     "traceback": [
      "\u001b[1;31m---------------------------------------------------------------------------\u001b[0m",
      "\u001b[1;31mKeyError\u001b[0m                                  Traceback (most recent call last)",
      "\u001b[1;32mC:\\Users\\CHETAN~1\\AppData\\Local\\Temp/ipykernel_8304/112330037.py\u001b[0m in \u001b[0;36m<module>\u001b[1;34m\u001b[0m\n\u001b[1;32m----> 1\u001b[1;33m \u001b[0mtrain\u001b[0m\u001b[1;33m.\u001b[0m\u001b[0mdrop\u001b[0m\u001b[1;33m(\u001b[0m\u001b[0mclaimant\u001b[0m\u001b[1;33m[\u001b[0m\u001b[1;34m\"att_val\"\u001b[0m\u001b[1;33m]\u001b[0m\u001b[1;33m)\u001b[0m\u001b[1;33m\u001b[0m\u001b[1;33m\u001b[0m\u001b[0m\n\u001b[0m",
      "\u001b[1;32m~\\Anaconda3\\envs\\CSY\\lib\\site-packages\\pandas\\util\\_decorators.py\u001b[0m in \u001b[0;36mwrapper\u001b[1;34m(*args, **kwargs)\u001b[0m\n\u001b[0;32m    309\u001b[0m                     \u001b[0mstacklevel\u001b[0m\u001b[1;33m=\u001b[0m\u001b[0mstacklevel\u001b[0m\u001b[1;33m,\u001b[0m\u001b[1;33m\u001b[0m\u001b[1;33m\u001b[0m\u001b[0m\n\u001b[0;32m    310\u001b[0m                 )\n\u001b[1;32m--> 311\u001b[1;33m             \u001b[1;32mreturn\u001b[0m \u001b[0mfunc\u001b[0m\u001b[1;33m(\u001b[0m\u001b[1;33m*\u001b[0m\u001b[0margs\u001b[0m\u001b[1;33m,\u001b[0m \u001b[1;33m**\u001b[0m\u001b[0mkwargs\u001b[0m\u001b[1;33m)\u001b[0m\u001b[1;33m\u001b[0m\u001b[1;33m\u001b[0m\u001b[0m\n\u001b[0m\u001b[0;32m    312\u001b[0m \u001b[1;33m\u001b[0m\u001b[0m\n\u001b[0;32m    313\u001b[0m         \u001b[1;32mreturn\u001b[0m \u001b[0mwrapper\u001b[0m\u001b[1;33m\u001b[0m\u001b[1;33m\u001b[0m\u001b[0m\n",
      "\u001b[1;32m~\\Anaconda3\\envs\\CSY\\lib\\site-packages\\pandas\\core\\frame.py\u001b[0m in \u001b[0;36mdrop\u001b[1;34m(self, labels, axis, index, columns, level, inplace, errors)\u001b[0m\n\u001b[0;32m   4911\u001b[0m             \u001b[0mlevel\u001b[0m\u001b[1;33m=\u001b[0m\u001b[0mlevel\u001b[0m\u001b[1;33m,\u001b[0m\u001b[1;33m\u001b[0m\u001b[1;33m\u001b[0m\u001b[0m\n\u001b[0;32m   4912\u001b[0m             \u001b[0minplace\u001b[0m\u001b[1;33m=\u001b[0m\u001b[0minplace\u001b[0m\u001b[1;33m,\u001b[0m\u001b[1;33m\u001b[0m\u001b[1;33m\u001b[0m\u001b[0m\n\u001b[1;32m-> 4913\u001b[1;33m             \u001b[0merrors\u001b[0m\u001b[1;33m=\u001b[0m\u001b[0merrors\u001b[0m\u001b[1;33m,\u001b[0m\u001b[1;33m\u001b[0m\u001b[1;33m\u001b[0m\u001b[0m\n\u001b[0m\u001b[0;32m   4914\u001b[0m         )\n\u001b[0;32m   4915\u001b[0m \u001b[1;33m\u001b[0m\u001b[0m\n",
      "\u001b[1;32m~\\Anaconda3\\envs\\CSY\\lib\\site-packages\\pandas\\core\\generic.py\u001b[0m in \u001b[0;36mdrop\u001b[1;34m(self, labels, axis, index, columns, level, inplace, errors)\u001b[0m\n\u001b[0;32m   4148\u001b[0m         \u001b[1;32mfor\u001b[0m \u001b[0maxis\u001b[0m\u001b[1;33m,\u001b[0m \u001b[0mlabels\u001b[0m \u001b[1;32min\u001b[0m \u001b[0maxes\u001b[0m\u001b[1;33m.\u001b[0m\u001b[0mitems\u001b[0m\u001b[1;33m(\u001b[0m\u001b[1;33m)\u001b[0m\u001b[1;33m:\u001b[0m\u001b[1;33m\u001b[0m\u001b[1;33m\u001b[0m\u001b[0m\n\u001b[0;32m   4149\u001b[0m             \u001b[1;32mif\u001b[0m \u001b[0mlabels\u001b[0m \u001b[1;32mis\u001b[0m \u001b[1;32mnot\u001b[0m \u001b[1;32mNone\u001b[0m\u001b[1;33m:\u001b[0m\u001b[1;33m\u001b[0m\u001b[1;33m\u001b[0m\u001b[0m\n\u001b[1;32m-> 4150\u001b[1;33m                 \u001b[0mobj\u001b[0m \u001b[1;33m=\u001b[0m \u001b[0mobj\u001b[0m\u001b[1;33m.\u001b[0m\u001b[0m_drop_axis\u001b[0m\u001b[1;33m(\u001b[0m\u001b[0mlabels\u001b[0m\u001b[1;33m,\u001b[0m \u001b[0maxis\u001b[0m\u001b[1;33m,\u001b[0m \u001b[0mlevel\u001b[0m\u001b[1;33m=\u001b[0m\u001b[0mlevel\u001b[0m\u001b[1;33m,\u001b[0m \u001b[0merrors\u001b[0m\u001b[1;33m=\u001b[0m\u001b[0merrors\u001b[0m\u001b[1;33m)\u001b[0m\u001b[1;33m\u001b[0m\u001b[1;33m\u001b[0m\u001b[0m\n\u001b[0m\u001b[0;32m   4151\u001b[0m \u001b[1;33m\u001b[0m\u001b[0m\n\u001b[0;32m   4152\u001b[0m         \u001b[1;32mif\u001b[0m \u001b[0minplace\u001b[0m\u001b[1;33m:\u001b[0m\u001b[1;33m\u001b[0m\u001b[1;33m\u001b[0m\u001b[0m\n",
      "\u001b[1;32m~\\Anaconda3\\envs\\CSY\\lib\\site-packages\\pandas\\core\\generic.py\u001b[0m in \u001b[0;36m_drop_axis\u001b[1;34m(self, labels, axis, level, errors)\u001b[0m\n\u001b[0;32m   4183\u001b[0m                 \u001b[0mnew_axis\u001b[0m \u001b[1;33m=\u001b[0m \u001b[0maxis\u001b[0m\u001b[1;33m.\u001b[0m\u001b[0mdrop\u001b[0m\u001b[1;33m(\u001b[0m\u001b[0mlabels\u001b[0m\u001b[1;33m,\u001b[0m \u001b[0mlevel\u001b[0m\u001b[1;33m=\u001b[0m\u001b[0mlevel\u001b[0m\u001b[1;33m,\u001b[0m \u001b[0merrors\u001b[0m\u001b[1;33m=\u001b[0m\u001b[0merrors\u001b[0m\u001b[1;33m)\u001b[0m\u001b[1;33m\u001b[0m\u001b[1;33m\u001b[0m\u001b[0m\n\u001b[0;32m   4184\u001b[0m             \u001b[1;32melse\u001b[0m\u001b[1;33m:\u001b[0m\u001b[1;33m\u001b[0m\u001b[1;33m\u001b[0m\u001b[0m\n\u001b[1;32m-> 4185\u001b[1;33m                 \u001b[0mnew_axis\u001b[0m \u001b[1;33m=\u001b[0m \u001b[0maxis\u001b[0m\u001b[1;33m.\u001b[0m\u001b[0mdrop\u001b[0m\u001b[1;33m(\u001b[0m\u001b[0mlabels\u001b[0m\u001b[1;33m,\u001b[0m \u001b[0merrors\u001b[0m\u001b[1;33m=\u001b[0m\u001b[0merrors\u001b[0m\u001b[1;33m)\u001b[0m\u001b[1;33m\u001b[0m\u001b[1;33m\u001b[0m\u001b[0m\n\u001b[0m\u001b[0;32m   4186\u001b[0m             \u001b[0mresult\u001b[0m \u001b[1;33m=\u001b[0m \u001b[0mself\u001b[0m\u001b[1;33m.\u001b[0m\u001b[0mreindex\u001b[0m\u001b[1;33m(\u001b[0m\u001b[1;33m**\u001b[0m\u001b[1;33m{\u001b[0m\u001b[0maxis_name\u001b[0m\u001b[1;33m:\u001b[0m \u001b[0mnew_axis\u001b[0m\u001b[1;33m}\u001b[0m\u001b[1;33m)\u001b[0m\u001b[1;33m\u001b[0m\u001b[1;33m\u001b[0m\u001b[0m\n\u001b[0;32m   4187\u001b[0m \u001b[1;33m\u001b[0m\u001b[0m\n",
      "\u001b[1;32m~\\Anaconda3\\envs\\CSY\\lib\\site-packages\\pandas\\core\\indexes\\base.py\u001b[0m in \u001b[0;36mdrop\u001b[1;34m(self, labels, errors)\u001b[0m\n\u001b[0;32m   6015\u001b[0m         \u001b[1;32mif\u001b[0m \u001b[0mmask\u001b[0m\u001b[1;33m.\u001b[0m\u001b[0many\u001b[0m\u001b[1;33m(\u001b[0m\u001b[1;33m)\u001b[0m\u001b[1;33m:\u001b[0m\u001b[1;33m\u001b[0m\u001b[1;33m\u001b[0m\u001b[0m\n\u001b[0;32m   6016\u001b[0m             \u001b[1;32mif\u001b[0m \u001b[0merrors\u001b[0m \u001b[1;33m!=\u001b[0m \u001b[1;34m\"ignore\"\u001b[0m\u001b[1;33m:\u001b[0m\u001b[1;33m\u001b[0m\u001b[1;33m\u001b[0m\u001b[0m\n\u001b[1;32m-> 6017\u001b[1;33m                 \u001b[1;32mraise\u001b[0m \u001b[0mKeyError\u001b[0m\u001b[1;33m(\u001b[0m\u001b[1;34mf\"{labels[mask]} not found in axis\"\u001b[0m\u001b[1;33m)\u001b[0m\u001b[1;33m\u001b[0m\u001b[1;33m\u001b[0m\u001b[0m\n\u001b[0m\u001b[0;32m   6018\u001b[0m             \u001b[0mindexer\u001b[0m \u001b[1;33m=\u001b[0m \u001b[0mindexer\u001b[0m\u001b[1;33m[\u001b[0m\u001b[1;33m~\u001b[0m\u001b[0mmask\u001b[0m\u001b[1;33m]\u001b[0m\u001b[1;33m\u001b[0m\u001b[1;33m\u001b[0m\u001b[0m\n\u001b[0;32m   6019\u001b[0m         \u001b[1;32mreturn\u001b[0m \u001b[0mself\u001b[0m\u001b[1;33m.\u001b[0m\u001b[0mdelete\u001b[0m\u001b[1;33m(\u001b[0m\u001b[0mindexer\u001b[0m\u001b[1;33m)\u001b[0m\u001b[1;33m\u001b[0m\u001b[1;33m\u001b[0m\u001b[0m\n",
      "\u001b[1;31mKeyError\u001b[0m: '[nan nan nan nan nan nan nan nan nan nan nan nan nan nan nan nan nan nan\\n nan nan nan nan nan nan nan nan nan nan nan nan nan nan nan nan nan nan\\n nan nan nan nan nan nan nan nan nan nan nan nan nan nan nan nan nan nan\\n nan nan nan nan nan nan nan nan nan nan nan nan nan nan nan nan nan nan\\n nan nan nan nan nan nan nan nan nan nan nan nan nan nan nan nan nan nan\\n nan nan nan nan nan nan nan nan nan nan nan nan nan nan nan nan nan nan\\n nan nan nan nan nan nan nan nan nan nan nan nan nan nan nan nan nan nan\\n nan nan nan nan nan nan nan nan nan nan nan nan nan nan nan nan nan nan\\n nan nan nan nan nan nan nan nan nan nan nan nan nan nan nan nan nan nan\\n nan nan nan nan nan nan nan nan nan nan nan nan nan nan nan nan nan nan\\n nan nan nan nan nan nan nan nan nan nan nan nan nan nan nan nan nan nan\\n nan nan nan nan nan nan nan nan nan nan nan nan nan nan nan nan nan nan\\n nan nan nan nan nan nan nan nan nan nan nan nan nan nan nan nan nan nan\\n nan nan nan nan nan nan nan nan nan nan nan nan nan nan nan nan nan nan\\n nan nan nan nan nan nan nan nan nan nan nan nan nan nan nan nan nan nan\\n nan nan nan nan nan nan nan nan nan nan nan nan nan nan nan nan nan nan\\n nan nan nan nan nan nan nan nan nan nan nan nan nan nan nan nan nan nan\\n nan nan nan nan nan nan nan nan nan nan nan nan nan nan nan nan nan nan\\n nan nan nan nan nan nan nan nan nan nan nan nan nan nan nan nan nan nan\\n nan nan nan nan nan nan nan nan nan nan nan nan nan nan nan nan nan nan\\n nan nan nan nan nan nan nan nan nan nan nan nan nan nan nan nan nan nan\\n nan nan nan nan nan nan nan nan nan nan nan nan nan nan nan nan nan nan\\n nan nan nan nan nan nan nan nan nan nan nan nan nan nan nan nan nan nan\\n nan nan nan nan nan nan nan nan nan nan nan nan nan nan nan nan nan nan\\n nan nan nan nan nan nan nan nan nan nan nan nan nan nan nan nan nan nan\\n nan nan nan nan nan nan nan nan nan nan nan nan nan nan nan nan nan nan\\n nan nan nan nan nan nan nan nan nan nan nan nan nan nan nan nan nan nan\\n nan nan nan nan nan nan nan nan nan nan nan nan nan nan nan nan nan nan\\n nan nan nan nan nan nan nan nan nan nan nan nan nan nan nan nan nan nan\\n nan nan nan nan nan nan nan nan nan nan nan nan nan nan nan nan nan nan\\n nan nan nan nan nan nan nan nan nan nan nan nan nan nan nan nan nan nan\\n nan nan nan nan nan nan nan nan nan nan nan nan nan nan nan nan nan nan\\n nan nan nan nan nan nan nan nan nan nan nan] not found in axis'"
     ]
    }
   ],
   "source": []
  },
  {
   "cell_type": "code",
   "execution_count": 109,
   "id": "eadef151",
   "metadata": {},
   "outputs": [],
   "source": [
    "test.drop(\"att_val\",axis = 1,inplace =True)"
   ]
  },
  {
   "cell_type": "code",
   "execution_count": 111,
   "id": "bf216d01",
   "metadata": {},
   "outputs": [],
   "source": [
    "## train model"
   ]
  },
  {
   "cell_type": "code",
   "execution_count": 112,
   "id": "50439d87",
   "metadata": {},
   "outputs": [
    {
     "name": "stdout",
     "output_type": "stream",
     "text": [
      "Optimization terminated successfully.\n",
      "         Current function value: 0.624194\n",
      "         Iterations 8\n"
     ]
    }
   ],
   "source": [
    "train_model = sm.logit(\"ATTORNEY~CLMAGE+CLMSEX+LOSS+SEATBELT\",data = train).fit()"
   ]
  },
  {
   "cell_type": "code",
   "execution_count": 113,
   "id": "90c9779c",
   "metadata": {},
   "outputs": [
    {
     "data": {
      "text/html": [
       "<table class=\"simpletable\">\n",
       "<caption>Logit Regression Results</caption>\n",
       "<tr>\n",
       "  <th>Dep. Variable:</th>       <td>ATTORNEY</td>     <th>  No. Observations:  </th>  <td>   938</td>  \n",
       "</tr>\n",
       "<tr>\n",
       "  <th>Model:</th>                 <td>Logit</td>      <th>  Df Residuals:      </th>  <td>   933</td>  \n",
       "</tr>\n",
       "<tr>\n",
       "  <th>Method:</th>                 <td>MLE</td>       <th>  Df Model:          </th>  <td>     4</td>  \n",
       "</tr>\n",
       "<tr>\n",
       "  <th>Date:</th>            <td>Sun, 10 Oct 2021</td> <th>  Pseudo R-squ.:     </th>  <td>0.09732</td> \n",
       "</tr>\n",
       "<tr>\n",
       "  <th>Time:</th>                <td>10:09:45</td>     <th>  Log-Likelihood:    </th> <td> -585.49</td> \n",
       "</tr>\n",
       "<tr>\n",
       "  <th>converged:</th>             <td>True</td>       <th>  LL-Null:           </th> <td> -648.62</td> \n",
       "</tr>\n",
       "<tr>\n",
       "  <th>Covariance Type:</th>     <td>nonrobust</td>    <th>  LLR p-value:       </th> <td>2.472e-26</td>\n",
       "</tr>\n",
       "</table>\n",
       "<table class=\"simpletable\">\n",
       "<tr>\n",
       "      <td></td>         <th>coef</th>     <th>std err</th>      <th>z</th>      <th>P>|z|</th>  <th>[0.025</th>    <th>0.975]</th>  \n",
       "</tr>\n",
       "<tr>\n",
       "  <th>Intercept</th> <td>    0.2063</td> <td>    0.157</td> <td>    1.313</td> <td> 0.189</td> <td>   -0.102</td> <td>    0.514</td>\n",
       "</tr>\n",
       "<tr>\n",
       "  <th>CLMAGE</th>    <td>    0.0044</td> <td>    0.004</td> <td>    1.172</td> <td> 0.241</td> <td>   -0.003</td> <td>    0.012</td>\n",
       "</tr>\n",
       "<tr>\n",
       "  <th>CLMSEX</th>    <td>    0.3361</td> <td>    0.140</td> <td>    2.399</td> <td> 0.016</td> <td>    0.062</td> <td>    0.611</td>\n",
       "</tr>\n",
       "<tr>\n",
       "  <th>LOSS</th>      <td>   -0.2672</td> <td>    0.034</td> <td>   -7.924</td> <td> 0.000</td> <td>   -0.333</td> <td>   -0.201</td>\n",
       "</tr>\n",
       "<tr>\n",
       "  <th>SEATBELT</th>  <td>   -0.5456</td> <td>    0.576</td> <td>   -0.947</td> <td> 0.343</td> <td>   -1.674</td> <td>    0.583</td>\n",
       "</tr>\n",
       "</table>"
      ],
      "text/plain": [
       "<class 'statsmodels.iolib.summary.Summary'>\n",
       "\"\"\"\n",
       "                           Logit Regression Results                           \n",
       "==============================================================================\n",
       "Dep. Variable:               ATTORNEY   No. Observations:                  938\n",
       "Model:                          Logit   Df Residuals:                      933\n",
       "Method:                           MLE   Df Model:                            4\n",
       "Date:                Sun, 10 Oct 2021   Pseudo R-squ.:                 0.09732\n",
       "Time:                        10:09:45   Log-Likelihood:                -585.49\n",
       "converged:                       True   LL-Null:                       -648.62\n",
       "Covariance Type:            nonrobust   LLR p-value:                 2.472e-26\n",
       "==============================================================================\n",
       "                 coef    std err          z      P>|z|      [0.025      0.975]\n",
       "------------------------------------------------------------------------------\n",
       "Intercept      0.2063      0.157      1.313      0.189      -0.102       0.514\n",
       "CLMAGE         0.0044      0.004      1.172      0.241      -0.003       0.012\n",
       "CLMSEX         0.3361      0.140      2.399      0.016       0.062       0.611\n",
       "LOSS          -0.2672      0.034     -7.924      0.000      -0.333      -0.201\n",
       "SEATBELT      -0.5456      0.576     -0.947      0.343      -1.674       0.583\n",
       "==============================================================================\n",
       "\"\"\""
      ]
     },
     "execution_count": 113,
     "metadata": {},
     "output_type": "execute_result"
    }
   ],
   "source": [
    "train_model.summary()"
   ]
  },
  {
   "cell_type": "code",
   "execution_count": 115,
   "id": "3268a124",
   "metadata": {},
   "outputs": [],
   "source": [
    "train_pred = train_model.predict(train.iloc[:,1:])"
   ]
  },
  {
   "cell_type": "code",
   "execution_count": 116,
   "id": "5e979da7",
   "metadata": {},
   "outputs": [
    {
     "data": {
      "text/plain": [
       "806     0.467030\n",
       "831     0.555729\n",
       "1019    0.427960\n",
       "780     0.413765\n",
       "547     0.574261\n",
       "          ...   \n",
       "1016    0.232466\n",
       "811     0.627699\n",
       "674     0.315815\n",
       "1320    0.627892\n",
       "302     0.378107\n",
       "Length: 938, dtype: float64"
      ]
     },
     "execution_count": 116,
     "metadata": {},
     "output_type": "execute_result"
    }
   ],
   "source": [
    "train_pred"
   ]
  },
  {
   "cell_type": "code",
   "execution_count": 117,
   "id": "28fe6b1b",
   "metadata": {},
   "outputs": [],
   "source": [
    "train[\"train_pred\"] = np.zeros(938)"
   ]
  },
  {
   "cell_type": "code",
   "execution_count": 118,
   "id": "2cc2b992",
   "metadata": {},
   "outputs": [],
   "source": [
    "train.loc[train_pred>0.5,\"train_pred\"] = 1"
   ]
  },
  {
   "cell_type": "code",
   "execution_count": 119,
   "id": "26927480",
   "metadata": {},
   "outputs": [],
   "source": [
    "### confusion matrix"
   ]
  },
  {
   "cell_type": "code",
   "execution_count": 120,
   "id": "0c2e57dd",
   "metadata": {},
   "outputs": [],
   "source": [
    "confusion_matrix = pd.crosstab(train[\"ATTORNEY\"],train.train_pred)"
   ]
  },
  {
   "cell_type": "code",
   "execution_count": 121,
   "id": "e3c404d9",
   "metadata": {},
   "outputs": [
    {
     "data": {
      "text/html": [
       "<div>\n",
       "<style scoped>\n",
       "    .dataframe tbody tr th:only-of-type {\n",
       "        vertical-align: middle;\n",
       "    }\n",
       "\n",
       "    .dataframe tbody tr th {\n",
       "        vertical-align: top;\n",
       "    }\n",
       "\n",
       "    .dataframe thead th {\n",
       "        text-align: right;\n",
       "    }\n",
       "</style>\n",
       "<table border=\"1\" class=\"dataframe\">\n",
       "  <thead>\n",
       "    <tr style=\"text-align: right;\">\n",
       "      <th>train_pred</th>\n",
       "      <th>0.0</th>\n",
       "      <th>1.0</th>\n",
       "    </tr>\n",
       "    <tr>\n",
       "      <th>ATTORNEY</th>\n",
       "      <th></th>\n",
       "      <th></th>\n",
       "    </tr>\n",
       "  </thead>\n",
       "  <tbody>\n",
       "    <tr>\n",
       "      <th>0</th>\n",
       "      <td>311</td>\n",
       "      <td>185</td>\n",
       "    </tr>\n",
       "    <tr>\n",
       "      <th>1</th>\n",
       "      <td>103</td>\n",
       "      <td>339</td>\n",
       "    </tr>\n",
       "  </tbody>\n",
       "</table>\n",
       "</div>"
      ],
      "text/plain": [
       "train_pred  0.0  1.0\n",
       "ATTORNEY            \n",
       "0           311  185\n",
       "1           103  339"
      ]
     },
     "execution_count": 121,
     "metadata": {},
     "output_type": "execute_result"
    }
   ],
   "source": [
    "confusion_matrix"
   ]
  },
  {
   "cell_type": "code",
   "execution_count": 122,
   "id": "0b99e423",
   "metadata": {},
   "outputs": [],
   "source": [
    "accuracy_train = (311+339)/(311+185+103+339)"
   ]
  },
  {
   "cell_type": "code",
   "execution_count": 123,
   "id": "b139245c",
   "metadata": {},
   "outputs": [
    {
     "data": {
      "text/plain": [
       "0.6929637526652452"
      ]
     },
     "execution_count": 123,
     "metadata": {},
     "output_type": "execute_result"
    }
   ],
   "source": [
    "accuracy_train"
   ]
  },
  {
   "cell_type": "code",
   "execution_count": 124,
   "id": "1c58a597",
   "metadata": {},
   "outputs": [],
   "source": [
    "### prediction on test data"
   ]
  },
  {
   "cell_type": "code",
   "execution_count": 125,
   "id": "656fe78a",
   "metadata": {},
   "outputs": [],
   "source": [
    "test_pred = train_model.predict(test)"
   ]
  },
  {
   "cell_type": "code",
   "execution_count": 126,
   "id": "124b9029",
   "metadata": {},
   "outputs": [
    {
     "data": {
      "text/plain": [
       "452     0.606833\n",
       "563     0.514219\n",
       "912     0.300198\n",
       "603     0.443915\n",
       "842     0.557035\n",
       "          ...   \n",
       "515     0.551657\n",
       "1073    0.569014\n",
       "549     0.638947\n",
       "93      0.386135\n",
       "1017    0.434420\n",
       "Length: 402, dtype: float64"
      ]
     },
     "execution_count": 126,
     "metadata": {},
     "output_type": "execute_result"
    }
   ],
   "source": [
    "test_pred"
   ]
  },
  {
   "cell_type": "code",
   "execution_count": 127,
   "id": "2b1fcb94",
   "metadata": {},
   "outputs": [],
   "source": [
    "test[\"test_pred\"] = np.zeros(402)"
   ]
  },
  {
   "cell_type": "code",
   "execution_count": 128,
   "id": "1dbc4b20",
   "metadata": {},
   "outputs": [],
   "source": [
    "test.loc[test_pred>0.5, \"test_pred\"] =1"
   ]
  },
  {
   "cell_type": "code",
   "execution_count": 129,
   "id": "b7b8ebfd",
   "metadata": {},
   "outputs": [],
   "source": [
    "##confusion_matrix"
   ]
  },
  {
   "cell_type": "code",
   "execution_count": 130,
   "id": "34cbb7d6",
   "metadata": {},
   "outputs": [],
   "source": [
    "confusion_test = pd.crosstab(test[\"ATTORNEY\"],test.test_pred)"
   ]
  },
  {
   "cell_type": "code",
   "execution_count": 131,
   "id": "b8b3c104",
   "metadata": {},
   "outputs": [
    {
     "data": {
      "text/html": [
       "<div>\n",
       "<style scoped>\n",
       "    .dataframe tbody tr th:only-of-type {\n",
       "        vertical-align: middle;\n",
       "    }\n",
       "\n",
       "    .dataframe tbody tr th {\n",
       "        vertical-align: top;\n",
       "    }\n",
       "\n",
       "    .dataframe thead th {\n",
       "        text-align: right;\n",
       "    }\n",
       "</style>\n",
       "<table border=\"1\" class=\"dataframe\">\n",
       "  <thead>\n",
       "    <tr style=\"text-align: right;\">\n",
       "      <th>test_pred</th>\n",
       "      <th>0.0</th>\n",
       "      <th>1.0</th>\n",
       "    </tr>\n",
       "    <tr>\n",
       "      <th>ATTORNEY</th>\n",
       "      <th></th>\n",
       "      <th></th>\n",
       "    </tr>\n",
       "  </thead>\n",
       "  <tbody>\n",
       "    <tr>\n",
       "      <th>0</th>\n",
       "      <td>131</td>\n",
       "      <td>58</td>\n",
       "    </tr>\n",
       "    <tr>\n",
       "      <th>1</th>\n",
       "      <td>43</td>\n",
       "      <td>170</td>\n",
       "    </tr>\n",
       "  </tbody>\n",
       "</table>\n",
       "</div>"
      ],
      "text/plain": [
       "test_pred  0.0  1.0\n",
       "ATTORNEY           \n",
       "0          131   58\n",
       "1           43  170"
      ]
     },
     "execution_count": 131,
     "metadata": {},
     "output_type": "execute_result"
    }
   ],
   "source": [
    "confusion_test"
   ]
  },
  {
   "cell_type": "code",
   "execution_count": 132,
   "id": "51662fed",
   "metadata": {},
   "outputs": [],
   "source": [
    "accuracy_test = (131+170)/(131+58+43+170) ## 74.87%"
   ]
  },
  {
   "cell_type": "code",
   "execution_count": 133,
   "id": "166b3739",
   "metadata": {},
   "outputs": [
    {
     "data": {
      "text/plain": [
       "0.7487562189054726"
      ]
     },
     "execution_count": 133,
     "metadata": {},
     "output_type": "execute_result"
    }
   ],
   "source": [
    "accuracy_test"
   ]
  },
  {
   "cell_type": "code",
   "execution_count": null,
   "id": "8cb5ff9d",
   "metadata": {},
   "outputs": [],
   "source": []
  }
 ],
 "metadata": {
  "kernelspec": {
   "display_name": "Python 3 (ipykernel)",
   "language": "python",
   "name": "python3"
  },
  "language_info": {
   "codemirror_mode": {
    "name": "ipython",
    "version": 3
   },
   "file_extension": ".py",
   "mimetype": "text/x-python",
   "name": "python",
   "nbconvert_exporter": "python",
   "pygments_lexer": "ipython3",
   "version": "3.7.11"
  }
 },
 "nbformat": 4,
 "nbformat_minor": 5
}
